{
 "cells": [
  {
   "cell_type": "markdown",
   "id": "2a5919a1",
   "metadata": {},
   "source": [
    "### Exercises\n",
    "\n",
    "#### Exercise #1\n",
    "Filter out all of the empty strings from the list below\n",
    "\n",
    "Output: ['Argentina', 'San Diego', 'Boston', 'New York']"
   ]
  },
  {
   "cell_type": "code",
   "execution_count": 14,
   "id": "132e4947",
   "metadata": {},
   "outputs": [
    {
     "data": {
      "text/plain": [
       "['Argentina', 'San Diego', 'Boston', 'New York']"
      ]
     },
     "execution_count": 14,
     "metadata": {},
     "output_type": "execute_result"
    }
   ],
   "source": [
    "places = [\" \",\"Argentina\", \" \", \"San Diego\",\"\",\"  \",\"\",\"Boston\",\"New York\"]\n",
    "\n",
    "list(filter(lambda string: string != \"\" and string != \" \" and string != \"  \", places))"
   ]
  },
  {
   "cell_type": "markdown",
   "id": "58722f63",
   "metadata": {},
   "source": [
    "### Exercise #2\n",
    "### Write an anonymous function that sorts this list by the last name...\n",
    "Hint: Use the \".sort()\" method and access the key\"\n",
    "\n",
    "Output: ['Victor aNisimov', 'Gary A.J. Bernstein', 'Joel Carter', 'Andrew P. Garfield', 'David hassELHOFF']"
   ]
  },
  {
   "cell_type": "code",
   "execution_count": 67,
   "id": "05e37db6",
   "metadata": {},
   "outputs": [
    {
     "name": "stdout",
     "output_type": "stream",
     "text": [
      "['Victor aNisimov', 'Gary A.J. Bernstein', 'Joel Carter', 'Andrew P. Garfield', 'David hassELHOFF']\n"
     ]
    }
   ],
   "source": [
    "authors = [\"Joel Carter\", \"Victor aNisimov\", \"Andrew P. Garfield\",\"David hassELHOFF\",\"Gary A.J. Bernstein\"]\n",
    "\n",
    "authors = sorted(authors, key = lambda name: name.split()[-1].lower())\n",
    "print(authors)"
   ]
  },
  {
   "cell_type": "markdown",
   "id": "b03b9097",
   "metadata": {},
   "source": [
    "### Exercise #3\n",
    "#### Convert the list below from Celsius to Farhenheit, using the map function with a lambda...\n",
    "\n",
    "Output: [('Nashua', 89.6), ('Boston', 53.6), ('Los Angeles', 111.2), ('Miami', 84.2)]"
   ]
  },
  {
   "cell_type": "code",
   "execution_count": 35,
   "id": "82651a63",
   "metadata": {},
   "outputs": [
    {
     "data": {
      "text/plain": [
       "[('Nashua', 89.6), ('Boston', 53.6), ('Los Angeles', 111.2), ('Miami', 84.2)]"
      ]
     },
     "execution_count": 35,
     "metadata": {},
     "output_type": "execute_result"
    }
   ],
   "source": [
    "# F = (9/5)*C + 32\n",
    "places = [('Nashua',32),(\"Boston\",12),(\"Los Angeles\",44),(\"Miami\",29)]\n",
    "\n",
    "list(map(lambda degree: (degree[0], (9/5) * degree[1] + 32), places))\n",
    "           \n",
    "\n"
   ]
  },
  {
   "cell_type": "markdown",
   "id": "cdc1559e",
   "metadata": {},
   "source": [
    "### Exercise #4\n",
    "\n",
    "Write a recursion function to perform the fibonacci sequence up to the number passed in."
   ]
  },
  {
   "cell_type": "raw",
   "id": "d30cbb74",
   "metadata": {},
   "source": [
    "Output for fib(5) => \n",
    "Iteration 0: 0\n",
    "Iteration 1: 1\n",
    "Iteration 2: 1\n",
    "Iteration 3: 2\n",
    "Iteration 4: 3\n",
    "Iteration 5: 5\n",
    "Iteration 6: 8"
   ]
  },
  {
   "cell_type": "code",
   "execution_count": 115,
   "id": "62e2043a",
   "metadata": {
    "scrolled": true
   },
   "outputs": [
    {
     "name": "stdout",
     "output_type": "stream",
     "text": [
      "Iteration 0: 0\n",
      "Iteration 1: 1\n",
      "Iteration 2: 1\n",
      "Iteration 3: 3\n",
      "Iteration 4: 5\n",
      "Iteration 5: 7\n",
      "Iteration 6: 9\n",
      "Iteration 7: 11\n",
      "Iteration 8: 13\n",
      "Iteration 9: 15\n"
     ]
    }
   ],
   "source": [
    "def add_more(n):\n",
    "    if n == 0:\n",
    "        #0 doesn't go by the fibonacci rules\n",
    "        return f\"Iteration 0: 0\"\n",
    "    elif n == 1 or n == 2:\n",
    "         #1 andd 2 do not go by the fibonacci rules\n",
    "        return f\"Iteration {n}: 1\"\n",
    "    else:\n",
    "        #all other numbers folllow the rule. One is subtracting from the number and two then those outcomes are added together\n",
    "        return f\"Iteration {n}: {(n - 1) + (n - 2)}\"\n",
    "        \n",
    "        \n",
    "for i in range(0,10):\n",
    "    #this runs the function for all numbers between 0-10\n",
    "    print(add_more(i))"
   ]
  },
  {
   "cell_type": "markdown",
   "id": "66bda654",
   "metadata": {},
   "source": [
    "#### Exercise #5 <br>\n",
    "<p>Create a generator that takes a number argument and yields that number squared, then prints each number squared until zero is reached.</p>"
   ]
  },
  {
   "cell_type": "code",
   "execution_count": 119,
   "id": "ec26e0a6",
   "metadata": {},
   "outputs": [
    {
     "data": {
      "text/plain": [
       "1"
      ]
     },
     "execution_count": 119,
     "metadata": {},
     "output_type": "execute_result"
    }
   ],
   "source": [
    "def square(start, stop = 0):\n",
    "    while stop != 0:\n",
    "        start **= start\n",
    "        return (start)\n",
    "square(0, 10)"
   ]
  },
  {
   "cell_type": "code",
   "execution_count": 126,
   "id": "970b9c9e",
   "metadata": {},
   "outputs": [
    {
     "name": "stdout",
     "output_type": "stream",
     "text": [
      "100\n",
      "81\n",
      "64\n",
      "49\n",
      "36\n",
      "25\n",
      "16\n",
      "9\n",
      "4\n",
      "1\n"
     ]
    }
   ],
   "source": [
    "def infinite_sequence(num):\n",
    "    while num != 0:\n",
    "        yield num\n",
    "        num -= 1\n",
    "        \n",
    "for value in infinite_sequence(10):\n",
    "    print(value ** 2)"
   ]
  },
  {
   "cell_type": "code",
   "execution_count": null,
   "id": "502ad207",
   "metadata": {},
   "outputs": [],
   "source": []
  }
 ],
 "metadata": {
  "kernelspec": {
   "display_name": "Python 3 (ipykernel)",
   "language": "python",
   "name": "python3"
  },
  "language_info": {
   "codemirror_mode": {
    "name": "ipython",
    "version": 3
   },
   "file_extension": ".py",
   "mimetype": "text/x-python",
   "name": "python",
   "nbconvert_exporter": "python",
   "pygments_lexer": "ipython3",
   "version": "3.9.13"
  }
 },
 "nbformat": 4,
 "nbformat_minor": 5
}
